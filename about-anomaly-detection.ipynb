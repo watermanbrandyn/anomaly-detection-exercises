{
 "cells": [
  {
   "cell_type": "markdown",
   "id": "496256d1",
   "metadata": {},
   "source": [
    "## Exercise"
   ]
  },
  {
   "cell_type": "markdown",
   "id": "34afe644",
   "metadata": {},
   "source": [
    "- Take a few minutes and jot down some example applications, specific problems, or domains where detecting anomalies is super valuable and impactful.\n",
    "\n",
    "1. Anomaly detection is crucial in fraud detection, corruption, or even just detecting outliers (could be trying to figure out who is in a certain customer segment). \n",
    "2. A common application is to try to detect purchase fraud, or identity fraud, etc...\n",
    "3. Personally I think a good use would be to try to detect real from fraud business, political activity and where those connections meets and exchange in and out flows of Capital.\n",
    "\n",
    "- Identify a few example applications, specific problems, or domains where the outliers can skew the data in a negative way and those outliers may be safely avoided for producing a model.\n",
    "\n",
    "1. Outliers in trying to predict business outcomes having a few 'shooting stars' could substantially influence the projected business outcomes if there is no guarantee of those 'shooting stars' being consistent 'cash cows'. \n",
    "\n",
    "2. Outliers could negatively impact assumptions in 'safe activity' on computer networks, bank activity, etc... identifying them in these cases is pretty essential for stable activity. "
   ]
  },
  {
   "cell_type": "code",
   "execution_count": null,
   "id": "62ed74be",
   "metadata": {},
   "outputs": [],
   "source": []
  }
 ],
 "metadata": {
  "kernelspec": {
   "display_name": "Python 3 (ipykernel)",
   "language": "python",
   "name": "python3"
  },
  "language_info": {
   "codemirror_mode": {
    "name": "ipython",
    "version": 3
   },
   "file_extension": ".py",
   "mimetype": "text/x-python",
   "name": "python",
   "nbconvert_exporter": "python",
   "pygments_lexer": "ipython3",
   "version": "3.9.12"
  }
 },
 "nbformat": 4,
 "nbformat_minor": 5
}
